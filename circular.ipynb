{
 "cells": [
  {
   "cell_type": "code",
   "execution_count": null,
   "metadata": {},
   "outputs": [],
   "source": [
    "import numpy as np\n",
    "import pandas as pd\n",
    "import holoviews as hv\n",
    "import networkx as nx\n",
    "import matplotlib.pyplot as plt\n",
    "hv.extension('bokeh')\n",
    "%opts Graph [width=700 height=700]\n",
    "\n",
    "#new reads\n",
    "import plotly.graph_objs as go\n",
    "import plotly.offline as py\n",
    "import plotly\n",
    "\n",
    "from holoviews import opts\n",
    "\n",
    "dataimport = pd.read_excel(\"Graph_Datanum4.xlsx\")\n",
    "print(len(dataimport))\n",
    "data = dataimport.sort_values(['Confidence'], ascending=[0])\n",
    "data_from = data.Antecedants\n",
    "data_to = data.Consequents\n",
    "edge_size = data.Confidence\n",
    "#node_size = data.node_size\n",
    "node_indices = set()\n",
    "for x in data_from:\n",
    "    node_indices.add(x)\n",
    "    \n",
    "# Declare abstract edges\n",
    "source = data_from\n",
    "target = data_to\n",
    "padding = dict(x=(-1.2, 1.2), y=(-1.2, 1.2))\n",
    "simple_graph = hv.Graph(((source, target),)).redim.range(**padding)\n",
    "N = len(simple_graph.nodes)\n",
    "node_indices = np.arange(N, dtype=np.int32)\n",
    "\n",
    "#simple_graph\n",
    "node_names = pd.read_excel(\"Graph_names.xlsx\")"
   ]
  },
  {
   "cell_type": "code",
   "execution_count": null,
   "metadata": {},
   "outputs": [],
   "source": [
    "%%opts Graph (node_size=8 edge_line_color='black' edge_hover_line_color='red' edge_nonselection_line_color='white' edge_selection_line_color='green')\n",
    "%%opts Graph (node_fill_color='blue')\n",
    "\n",
    "pad = dict(x=(-1.2, 1.2), y=(-1.2, 1.2))\n",
    "datashade(bundled, width=1800, height=1800) * bundled.select(weight=(10, None)).redim.range(**pad)"
   ]
  }
 ],
 "metadata": {
  "kernelspec": {
   "display_name": "Python 3",
   "language": "python",
   "name": "python3"
  },
  "language_info": {
   "codemirror_mode": {
    "name": "ipython",
    "version": 3
   },
   "file_extension": ".py",
   "mimetype": "text/x-python",
   "name": "python",
   "nbconvert_exporter": "python",
   "pygments_lexer": "ipython3",
   "version": "3.6.4"
  }
 },
 "nbformat": 4,
 "nbformat_minor": 2
}
